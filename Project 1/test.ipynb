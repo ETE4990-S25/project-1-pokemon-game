{
 "cells": [
  {
   "cell_type": "code",
   "execution_count": null,
   "metadata": {},
   "outputs": [],
   "source": [
    "import Menu as M\n",
    "M.Start()"
   ]
  },
  {
   "cell_type": "markdown",
   "metadata": {},
   "source": [
    "# Known Problems:\n",
    "\n",
    "    -Inventory not saving\n",
    "    -Items not stacking properly\n",
    "    -Items only effecting enemy pokemon (enemy was healed)\n",
    "    -Fainted player pokemon can still fight again\n",
    "    -Run working even when \"couldnt get away\"\n",
    "    -Still in battle when pokemon was caught\n",
    "    -Save breaks when things in bag or new caught pokemon\n",
    "\n",
    "# Lower Priority:\n",
    "\n",
    "    -Formatting, make it look a little nicer\n",
    "    -Maybe add waits between prints to make it more smooth\n",
    "    -Not needed to say \"you didnt encounter pokemon this time\"? \n"
   ]
  },
  {
   "cell_type": "markdown",
   "metadata": {},
   "source": []
  }
 ],
 "metadata": {
  "kernelspec": {
   "display_name": "Python 3",
   "language": "python",
   "name": "python3"
  },
  "language_info": {
   "codemirror_mode": {
    "name": "ipython",
    "version": 3
   },
   "file_extension": ".py",
   "mimetype": "text/x-python",
   "name": "python",
   "nbconvert_exporter": "python",
   "pygments_lexer": "ipython3",
   "version": "3.11.9"
  }
 },
 "nbformat": 4,
 "nbformat_minor": 2
}
