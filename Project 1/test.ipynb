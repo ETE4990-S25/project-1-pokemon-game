{
 "cells": [
  {
   "cell_type": "code",
   "execution_count": 1,
   "metadata": {},
   "outputs": [
    {
     "name": "stdout",
     "output_type": "stream",
     "text": [
      "\n",
      "1. New\n",
      "2. Load\n",
      "\n",
      "---Welcome to Pokemon---\n",
      "\n",
      "Choose from the following:\n",
      "Bulbasaur\n",
      "Squirtle\n",
      "Charmander\n",
      "Pikachu\n",
      "Jigglypuff\n",
      "Meowth\n",
      "Psyduck\n",
      "Eevee\n",
      "Growlithe\n",
      "Oddish\n",
      "Bellsprout\n",
      "All save slots are full\n",
      "Overwrite Data to which slot?\n",
      "\n",
      "Slot:1 has been overwritten\n",
      "\n"
     ]
    },
    {
     "ename": "TypeError",
     "evalue": "list indices must be integers or slices, not str",
     "output_type": "error",
     "traceback": [
      "\u001b[1;31m---------------------------------------------------------------------------\u001b[0m",
      "\u001b[1;31mTypeError\u001b[0m                                 Traceback (most recent call last)",
      "Cell \u001b[1;32mIn[1], line 2\u001b[0m\n\u001b[0;32m      1\u001b[0m \u001b[38;5;28;01mimport\u001b[39;00m\u001b[38;5;250m \u001b[39m\u001b[38;5;21;01mMenu\u001b[39;00m\u001b[38;5;250m \u001b[39m\u001b[38;5;28;01mas\u001b[39;00m\u001b[38;5;250m \u001b[39m\u001b[38;5;21;01mM\u001b[39;00m\n\u001b[1;32m----> 2\u001b[0m \u001b[43mM\u001b[49m\u001b[38;5;241;43m.\u001b[39;49m\u001b[43mStart\u001b[49m\u001b[43m(\u001b[49m\u001b[43m)\u001b[49m\n",
      "File \u001b[1;32md:\\David\\School\\Python Coding\\Project 1\\project-1-pokemon-game-1\\Project 1\\Menu.py:24\u001b[0m, in \u001b[0;36mStart\u001b[1;34m()\u001b[0m\n\u001b[0;32m     22\u001b[0m     Load()\n\u001b[0;32m     23\u001b[0m \u001b[38;5;28;01melse\u001b[39;00m:\n\u001b[1;32m---> 24\u001b[0m     \u001b[43mOpen\u001b[49m\u001b[43m(\u001b[49m\u001b[43m)\u001b[49m\n",
      "File \u001b[1;32md:\\David\\School\\Python Coding\\Project 1\\project-1-pokemon-game-1\\Project 1\\Menu.py:71\u001b[0m, in \u001b[0;36mOpen\u001b[1;34m()\u001b[0m\n\u001b[0;32m     69\u001b[0m     \u001b[38;5;28mprint\u001b[39m(\u001b[38;5;124mf\u001b[39m\u001b[38;5;124m\"\u001b[39m\u001b[38;5;130;01m\\n\u001b[39;00m\u001b[38;5;124mSlot:\u001b[39m\u001b[38;5;132;01m{\u001b[39;00mchoice\u001b[38;5;132;01m}\u001b[39;00m\u001b[38;5;124m has been overwritten\u001b[39m\u001b[38;5;130;01m\\n\u001b[39;00m\u001b[38;5;124m\"\u001b[39m)\n\u001b[0;32m     70\u001b[0m     SaveSlot \u001b[38;5;241m=\u001b[39m choice\n\u001b[1;32m---> 71\u001b[0m     \u001b[43mMenu\u001b[49m\u001b[43m(\u001b[49m\u001b[43mPlayer\u001b[49m\u001b[43m)\u001b[49m\n\u001b[0;32m     73\u001b[0m \u001b[38;5;28;01melse\u001b[39;00m:\n\u001b[0;32m     74\u001b[0m     \u001b[38;5;28mprint\u001b[39m(\u001b[38;5;124m\"\u001b[39m\u001b[38;5;124mInvalid Option\u001b[39m\u001b[38;5;124m\"\u001b[39m)\n",
      "File \u001b[1;32md:\\David\\School\\Python Coding\\Project 1\\project-1-pokemon-game-1\\Project 1\\Menu.py:119\u001b[0m, in \u001b[0;36mMenu\u001b[1;34m(Player)\u001b[0m\n\u001b[0;32m    116\u001b[0m \u001b[38;5;28;01mglobal\u001b[39;00m GameData\n\u001b[0;32m    117\u001b[0m \u001b[38;5;28;01mglobal\u001b[39;00m SaveSlot\n\u001b[1;32m--> 119\u001b[0m MainPokemon \u001b[38;5;241m=\u001b[39m \u001b[43mGameData\u001b[49m\u001b[43m[\u001b[49m\u001b[43mSaveSlot\u001b[49m\u001b[43m]\u001b[49m\u001b[43m[\u001b[49m\u001b[38;5;124;43m\"\u001b[39;49m\u001b[38;5;124;43mteam\u001b[39;49m\u001b[38;5;124;43m\"\u001b[39;49m\u001b[43m]\u001b[49m\u001b[43m[\u001b[49m\u001b[38;5;124;43m\"\u001b[39;49m\u001b[38;5;124;43mname\u001b[39;49m\u001b[38;5;124;43m\"\u001b[39;49m\u001b[43m]\u001b[49m \u001b[38;5;66;03m## First pokemon in team list\u001b[39;00m\n\u001b[0;32m    120\u001b[0m Play \u001b[38;5;241m=\u001b[39m \u001b[38;5;28;01mTrue\u001b[39;00m\n\u001b[0;32m    121\u001b[0m \u001b[38;5;28;01mwhile\u001b[39;00m(Play):\n",
      "\u001b[1;31mTypeError\u001b[0m: list indices must be integers or slices, not str"
     ]
    }
   ],
   "source": [
    "import Menu as M\n",
    "M.Start()"
   ]
  },
  {
   "cell_type": "code",
   "execution_count": 2,
   "metadata": {},
   "outputs": [
    {
     "name": "stdout",
     "output_type": "stream",
     "text": [
      "{}\n"
     ]
    }
   ],
   "source": [
    "print(M.GameData)"
   ]
  },
  {
   "cell_type": "code",
   "execution_count": null,
   "metadata": {},
   "outputs": [],
   "source": []
  }
 ],
 "metadata": {
  "kernelspec": {
   "display_name": "Python 3",
   "language": "python",
   "name": "python3"
  },
  "language_info": {
   "codemirror_mode": {
    "name": "ipython",
    "version": 3
   },
   "file_extension": ".py",
   "mimetype": "text/x-python",
   "name": "python",
   "nbconvert_exporter": "python",
   "pygments_lexer": "ipython3",
   "version": "3.11.9"
  }
 },
 "nbformat": 4,
 "nbformat_minor": 2
}
