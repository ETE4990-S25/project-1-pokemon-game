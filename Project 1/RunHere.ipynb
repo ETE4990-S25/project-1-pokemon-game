{
 "cells": [
  {
   "cell_type": "markdown",
   "metadata": {},
   "source": [
    "# Welcome to Pokemon!!\n",
    "Overall the code feels very messy and the battle function is way too long but I think this gave a lot of insight into how to structure these projects in the future <br>\n",
    "Most of the work at the end was bug fixes and getting everything to work properly.<br>\n",
    "To my knowledge, there is nothing you can enter that will \"break\" the code or throw an error, if something is found please let me know<br><br>\n",
    "The hardest part of making this code by far was the Save/Load features, Class instances will not save in a json so all items and pokemon and the player needed to be converted to dictionaries<br>\n",
    "This solution I think caused the bulk of the issues in debugging"
   ]
  },
  {
   "cell_type": "code",
   "execution_count": null,
   "metadata": {},
   "outputs": [],
   "source": [
    "import Menu as M\n",
    "M.Start()"
   ]
  }
 ],
 "metadata": {
  "kernelspec": {
   "display_name": "Python 3",
   "language": "python",
   "name": "python3"
  },
  "language_info": {
   "codemirror_mode": {
    "name": "ipython",
    "version": 3
   },
   "file_extension": ".py",
   "mimetype": "text/x-python",
   "name": "python",
   "nbconvert_exporter": "python",
   "pygments_lexer": "ipython3",
   "version": "3.11.9"
  }
 },
 "nbformat": 4,
 "nbformat_minor": 2
}
