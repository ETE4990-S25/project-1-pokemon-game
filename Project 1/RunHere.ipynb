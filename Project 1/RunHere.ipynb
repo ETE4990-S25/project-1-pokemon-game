{
 "cells": [
  {
   "cell_type": "markdown",
   "metadata": {},
   "source": [
    "# Known Problems:\n",
    "\n",
    "    -Stacking problem, cant figure out why items not stacking properly\n",
    "    -Stuck in invalid loop after swapping pokemon in battle and attacking\n",
    "\n",
    "# Lower Priority:\n",
    "\n"
   ]
  },
  {
   "cell_type": "code",
   "execution_count": 1,
   "metadata": {},
   "outputs": [
    {
     "name": "stdout",
     "output_type": "stream",
     "text": [
      "\n",
      "1. New\n",
      "2. Load\n",
      "\n",
      "---Welcome to Pokemon---\n",
      "\n",
      "Choose from the following:\n",
      "\n",
      "Bulbasaur\n",
      "Squirtle\n",
      "Charmander\n",
      "\n",
      "Game started in slot #2\n",
      "\n",
      "\n",
      "\n",
      "--------------------------------------\n",
      "1. Walk into grass       2. Check Bag\n",
      "3. Go to PokeCenter      4. Swap Main Pokemon\n",
      "5. Save Game             6. Exit Game\n",
      "\n",
      "Invalid option\n",
      "\n",
      "\n",
      "\n",
      "--------------------------------------\n",
      "1. Walk into grass       2. Check Bag\n",
      "3. Go to PokeCenter      4. Swap Main Pokemon\n",
      "5. Save Game             6. Exit Game\n",
      "\n",
      "You found 1 Ultra Ball\n",
      "Ultra Ball has been added to your backpack.\n",
      "\n",
      "A wild Eevee appeared!\n",
      "\n",
      "Choose an action:\n",
      "1) Attack\n",
      "2) Use Item\n",
      "3) Run\n",
      "4) Swap Pokemon\n",
      "Choose a move:\n",
      "\n",
      "1. Tackle\n",
      "2. Ember\n",
      "3. Fire Spin\n",
      "5. Exit\n",
      "\n",
      "Charmander attacks Eevee with Fire Spin for: 45 damage.\n",
      "\n",
      "Eevee's health is now 40.\n",
      "\n",
      "Charmander's health is 85.\n",
      "\n",
      "Eevee's Turn:\n",
      "\n",
      "Eevee attacks Charmander with Growl for: 40 damage.\n",
      "\n",
      "Charmander's health is now 45.\n",
      "\n",
      "Eevee's health is 40.\n",
      "\n",
      "Choose an action:\n",
      "1) Attack\n",
      "2) Use Item\n",
      "3) Run\n",
      "4) Swap Pokemon\n",
      "\n",
      "Charmander got away safely\n",
      "\n",
      "You chose not to walk into the tall grass.\n",
      "\n",
      "\n",
      "\n",
      "--------------------------------------\n",
      "1. Walk into grass       2. Check Bag\n",
      "3. Go to PokeCenter      4. Swap Main Pokemon\n",
      "5. Save Game             6. Exit Game\n",
      "\n",
      "---Saving Game---\n",
      "---Game Saved---\n",
      "Thanks for playing!\n"
     ]
    }
   ],
   "source": [
    "import Menu as M\n",
    "M.Start()"
   ]
  }
 ],
 "metadata": {
  "kernelspec": {
   "display_name": "Python 3",
   "language": "python",
   "name": "python3"
  },
  "language_info": {
   "codemirror_mode": {
    "name": "ipython",
    "version": 3
   },
   "file_extension": ".py",
   "mimetype": "text/x-python",
   "name": "python",
   "nbconvert_exporter": "python",
   "pygments_lexer": "ipython3",
   "version": "3.11.9"
  }
 },
 "nbformat": 4,
 "nbformat_minor": 2
}
