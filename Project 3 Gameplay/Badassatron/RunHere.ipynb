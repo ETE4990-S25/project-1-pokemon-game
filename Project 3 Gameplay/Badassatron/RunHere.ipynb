{
 "cells": [
  {
   "cell_type": "code",
   "execution_count": 1,
   "id": "b5a59107",
   "metadata": {},
   "outputs": [
    {
     "name": "stdout",
     "output_type": "stream",
     "text": [
      "\n",
      "Your group has made their way to Iacon City. It is here where you face off against Arachnid!\n",
      "Arachnid's Health: 150 | Your Health: 100\n",
      "\n",
      "Arachnid is a fierce opponent, quick to strike and relentless in combat.\n",
      "\n",
      "Round 1 begins!\n",
      "Arachnid's Health: 150 | Your Health: 100\n",
      "\n",
      "Choose an item from your inventory to use in this round:\n"
     ]
    },
    {
     "ename": "NameError",
     "evalue": "name 'inventory' is not defined",
     "output_type": "error",
     "traceback": [
      "\u001b[1;31m---------------------------------------------------------------------------\u001b[0m",
      "\u001b[1;31mNameError\u001b[0m                                 Traceback (most recent call last)",
      "Cell \u001b[1;32mIn[1], line 1\u001b[0m\n\u001b[1;32m----> 1\u001b[0m \u001b[38;5;28;01mimport\u001b[39;00m\u001b[38;5;250m \u001b[39m\u001b[38;5;21;01mbadassatronmain\u001b[39;00m\u001b[38;5;21;01m.\u001b[39;00m\u001b[38;5;21;01mpy\u001b[39;00m\u001b[38;5;250m \u001b[39m\u001b[38;5;28;01mas\u001b[39;00m\u001b[38;5;250m \u001b[39m\u001b[38;5;21;01mB\u001b[39;00m\n\u001b[0;32m      2\u001b[0m B\u001b[38;5;241m.\u001b[39mmainmenu()\n",
      "File \u001b[1;32md:\\David\\School\\Python Coding\\Project 1\\project-1-pokemon-game-1\\Project 3 Gameplay\\Badassatron\\badassatronmain.py:497\u001b[0m\n\u001b[0;32m    494\u001b[0m         \u001b[38;5;28mprint\u001b[39m(\u001b[38;5;124m\"\u001b[39m\u001b[38;5;130;01m\\n\u001b[39;00m\u001b[38;5;124mYou were defeated by Arachnid, and now the fate of Cybertron is uncertain.\u001b[39m\u001b[38;5;124m\"\u001b[39m)\n\u001b[0;32m    496\u001b[0m \u001b[38;5;66;03m# Call the main event function to start the game\u001b[39;00m\n\u001b[1;32m--> 497\u001b[0m \u001b[43mmain_event\u001b[49m\u001b[43m(\u001b[49m\u001b[43m)\u001b[49m\n\u001b[0;32m    499\u001b[0m \u001b[38;5;66;03m#Game End with Stats -> Reset and Restart\u001b[39;00m\n\u001b[0;32m    500\u001b[0m \u001b[38;5;28;01mdef\u001b[39;00m\u001b[38;5;250m \u001b[39m\u001b[38;5;21mgame_end\u001b[39m():\n",
      "File \u001b[1;32md:\\David\\School\\Python Coding\\Project 1\\project-1-pokemon-game-1\\Project 3 Gameplay\\Badassatron\\badassatronmain.py:481\u001b[0m, in \u001b[0;36mmain_event\u001b[1;34m()\u001b[0m\n\u001b[0;32m    478\u001b[0m \u001b[38;5;28;01mglobal\u001b[39;00m player_health, arachnid_health, sentinel_health\n\u001b[0;32m    480\u001b[0m \u001b[38;5;66;03m# Start the battle with Arachnid\u001b[39;00m\n\u001b[1;32m--> 481\u001b[0m arachnid_battle_result \u001b[38;5;241m=\u001b[39m \u001b[43mbattle_arachnid\u001b[49m\u001b[43m(\u001b[49m\u001b[43m)\u001b[49m\n\u001b[0;32m    483\u001b[0m \u001b[38;5;28;01mif\u001b[39;00m arachnid_battle_result \u001b[38;5;241m==\u001b[39m \u001b[38;5;124m\"\u001b[39m\u001b[38;5;124mwin\u001b[39m\u001b[38;5;124m\"\u001b[39m:\n\u001b[0;32m    484\u001b[0m     \u001b[38;5;28mprint\u001b[39m(\u001b[38;5;124m\"\u001b[39m\u001b[38;5;130;01m\\n\u001b[39;00m\u001b[38;5;124mYou have successfully defeated Arachnid! Now you face **Sentinel Prime**.\u001b[39m\u001b[38;5;124m\"\u001b[39m)\n",
      "File \u001b[1;32md:\\David\\School\\Python Coding\\Project 1\\project-1-pokemon-game-1\\Project 3 Gameplay\\Badassatron\\badassatronmain.py:358\u001b[0m, in \u001b[0;36mbattle_arachnid\u001b[1;34m()\u001b[0m\n\u001b[0;32m    356\u001b[0m \u001b[38;5;66;03m# Let the player choose an item from their inventory\u001b[39;00m\n\u001b[0;32m    357\u001b[0m \u001b[38;5;28mprint\u001b[39m(\u001b[38;5;124m\"\u001b[39m\u001b[38;5;130;01m\\n\u001b[39;00m\u001b[38;5;124mChoose an item from your inventory to use in this round:\u001b[39m\u001b[38;5;124m\"\u001b[39m)\n\u001b[1;32m--> 358\u001b[0m \u001b[38;5;28;01mfor\u001b[39;00m i, item \u001b[38;5;129;01min\u001b[39;00m \u001b[38;5;28menumerate\u001b[39m(\u001b[43minventory\u001b[49m, \u001b[38;5;241m1\u001b[39m):\n\u001b[0;32m    359\u001b[0m     \u001b[38;5;28mprint\u001b[39m(\u001b[38;5;124mf\u001b[39m\u001b[38;5;124m\"\u001b[39m\u001b[38;5;132;01m{\u001b[39;00mi\u001b[38;5;132;01m}\u001b[39;00m\u001b[38;5;124m. \u001b[39m\u001b[38;5;132;01m{\u001b[39;00mitem\u001b[38;5;132;01m}\u001b[39;00m\u001b[38;5;124m\"\u001b[39m)\n\u001b[0;32m    360\u001b[0m choice \u001b[38;5;241m=\u001b[39m \u001b[38;5;28mint\u001b[39m(\u001b[38;5;28minput\u001b[39m(\u001b[38;5;124m\"\u001b[39m\u001b[38;5;130;01m\\n\u001b[39;00m\u001b[38;5;124mEnter the number of the item you wish to use: \u001b[39m\u001b[38;5;124m\"\u001b[39m))\n",
      "\u001b[1;31mNameError\u001b[0m: name 'inventory' is not defined"
     ]
    }
   ],
   "source": [
    "import badassatronmain.py as B\n",
    "B.mainmenu()"
   ]
  },
  {
   "cell_type": "code",
   "execution_count": null,
   "id": "efbcd390",
   "metadata": {},
   "outputs": [],
   "source": []
  }
 ],
 "metadata": {
  "kernelspec": {
   "display_name": "Python 3",
   "language": "python",
   "name": "python3"
  },
  "language_info": {
   "codemirror_mode": {
    "name": "ipython",
    "version": 3
   },
   "file_extension": ".py",
   "mimetype": "text/x-python",
   "name": "python",
   "nbconvert_exporter": "python",
   "pygments_lexer": "ipython3",
   "version": "3.11.9"
  }
 },
 "nbformat": 4,
 "nbformat_minor": 5
}
